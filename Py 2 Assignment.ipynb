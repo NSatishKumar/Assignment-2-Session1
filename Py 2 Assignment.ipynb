{
 "cells": [
  {
   "cell_type": "markdown",
   "metadata": {},
   "source": [
    "## 1.  Write a program which accepts a sequence of comma-separated numbers from console and generate a list"
   ]
  },
  {
   "cell_type": "code",
   "execution_count": 17,
   "metadata": {},
   "outputs": [
    {
     "name": "stdout",
     "output_type": "stream",
     "text": [
      " Enter the values woth comma separated  11,22,33,44\n",
      "[11, 22, 33, 44]\n"
     ]
    }
   ],
   "source": [
    "inputval=input(\" Enter the values woth comma separated  \")             # accepting the input from user\n",
    "newlist=[]\n",
    "flag=\"\"\n",
    "#checking whether it is number or not\n",
    "after_split=inputval.split(',')                                        # spliting the string based on comma\n",
    "after_split\n",
    "for item in after_split:                                               # looping all items in the list(after_split)\n",
    "    if(item.isdigit()):\n",
    "        newlist.append(int(item))                                      # storing the values in the variable  \n",
    "    else:\n",
    "        print(\"Input values are not numbers. Please entere numbers with comma separated\")   # user message if input is improper\n",
    "        flag=\"notvalid\"\n",
    "        break;\n",
    "if(flag!=\"notvalid\"):\n",
    "    print(newlist)                                                      #  dispalying the output variable"
   ]
  },
  {
   "cell_type": "markdown",
   "metadata": {
    "scrolled": true
   },
   "source": [
    "## 2.  Create the below pattern using nested for loop in Python.  \n",
    "  \n",
    "  \n",
    "            *   \n",
    "            * *   \n",
    "            * * *   \n",
    "            * * * *   \n",
    "            * * * * *   \n",
    "            * * * *   \n",
    "            * * *   \n",
    "            * *   \n",
    "            *  \n",
    "  "
   ]
  },
  {
   "cell_type": "code",
   "execution_count": 9,
   "metadata": {},
   "outputs": [
    {
     "name": "stdout",
     "output_type": "stream",
     "text": [
      "\n",
      "\n",
      "* \n",
      "\n",
      "* * \n",
      "\n",
      "* * * \n",
      "\n",
      "* * * * \n",
      "\n",
      "* * * * * \n",
      "\n",
      "* * * * \n",
      "\n",
      "* * * \n",
      "\n",
      "* * \n",
      "\n",
      "* \n",
      "\n"
     ]
    }
   ],
   "source": [
    "length=5\n",
    "for i in range(length):                           # looping to display the stars in increasing order\n",
    "    for j in range(0,i):\n",
    "        print(\"*\", end=' ')                       # printing the star symbol with single space after each star symbol\n",
    "    print('\\n')\n",
    "\n",
    "for i1 in range(0,length):                        # looping to display the stars in descending order\n",
    "    for j in range(length,i1,-1):\n",
    "        print(\"*\", end=' ')                       # printing the star symbol with single space after each star symbol\n",
    "    print('\\n')"
   ]
  },
  {
   "cell_type": "markdown",
   "metadata": {},
   "source": [
    "## 3.  Write a Python program to reverse a word after accepting the input from the user. "
   ]
  },
  {
   "cell_type": "code",
   "execution_count": 3,
   "metadata": {
    "scrolled": false
   },
   "outputs": [
    {
     "name": "stdout",
     "output_type": "stream",
     "text": [
      "Enter the string Satish\n",
      "hsitaS\n"
     ]
    }
   ],
   "source": [
    "inputval=input(\"Enter the string \")       # input string\n",
    "outputval=inputval[::-1]                  # reversing the string\n",
    "print(outputval)"
   ]
  },
  {
   "cell_type": "markdown",
   "metadata": {},
   "source": [
    "4.  Write a Python Program to print the given string in the format specified in the sample \n",
    "output. \n",
    " \n",
    "WE, THE PEOPLE OF INDIA, having solemnly resolved to constitute India into a SOVEREIGN, \n",
    "SOCIALIST, SECULAR, DEMOCRATIC REPUBLIC and to secure to all its citizens \n",
    " \n",
    "Sample Output: \n",
    " \n",
    "WE, THE PEOPLE OF INDIA,  \n",
    "      having solemnly resolved to constitute India into a SOVEREIGN, !  \n",
    "            SOCIALIST, SECULAR, DEMOCRATIC REPUBLIC  \n",
    "             and to secure to all its citizens"
   ]
  },
  {
   "cell_type": "code",
   "execution_count": 15,
   "metadata": {},
   "outputs": [
    {
     "name": "stdout",
     "output_type": "stream",
     "text": [
      "WE, THE PEOPLE OF INDIA,\n",
      "      having solemnly resolved to constitute India into a SOVEREIGN, !\n",
      "\t    SOCIALIST, SECULAR, DEMOCRATIC REPUBLIC\n",
      "\t     and to secure to all its citizens\n"
     ]
    }
   ],
   "source": [
    "print(\"WE, THE PEOPLE OF INDIA,\", end='\\n      ')\n",
    "print(\"having solemnly resolved to constitute India into a SOVEREIGN,\", end=' !\\n')\n",
    "print(end='\\t    ')\n",
    "print(\"SOCIALIST, SECULAR, DEMOCRATIC REPUBLIC\",end='\\n')\n",
    "print(end='\\t     ')\n",
    "print(\"and to secure to all its citizens\")"
   ]
  },
  {
   "cell_type": "code",
   "execution_count": 16,
   "metadata": {},
   "outputs": [
    {
     "name": "stdout",
     "output_type": "stream",
     "text": [
      "WE, THE PEOPLE OF INDIA,\n",
      "\thaving solemnly resolved to constitute India into a SOVEREIGN, !\n",
      "\t\tSOCIALIST, SECULAR, DEMOCRATIC REPUBLIC\n",
      "\t\t and to secure to all its citizens\n"
     ]
    }
   ],
   "source": [
    "print(\"WE, THE PEOPLE OF INDIA,\\n\\thaving solemnly resolved to constitute India into a SOVEREIGN, !\\n\\t\\tSOCIALIST, SECULAR, DEMOCRATIC REPUBLIC\\n\\t\\t and to secure to all its citizens\")"
   ]
  },
  {
   "cell_type": "code",
   "execution_count": 24,
   "metadata": {},
   "outputs": [],
   "source": []
  },
  {
   "cell_type": "code",
   "execution_count": 25,
   "metadata": {
    "scrolled": true
   },
   "outputs": [],
   "source": []
  },
  {
   "cell_type": "code",
   "execution_count": null,
   "metadata": {},
   "outputs": [],
   "source": []
  }
 ],
 "metadata": {
  "kernelspec": {
   "display_name": "Python 3",
   "language": "python",
   "name": "python3"
  },
  "language_info": {
   "codemirror_mode": {
    "name": "ipython",
    "version": 3
   },
   "file_extension": ".py",
   "mimetype": "text/x-python",
   "name": "python",
   "nbconvert_exporter": "python",
   "pygments_lexer": "ipython3",
   "version": "3.7.0"
  }
 },
 "nbformat": 4,
 "nbformat_minor": 2
}
